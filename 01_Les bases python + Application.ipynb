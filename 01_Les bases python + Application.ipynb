{
 "cells": [
  {
   "attachments": {},
   "cell_type": "markdown",
   "metadata": {},
   "source": [
    "# Chapitre 1 - Les bases de Python / Python from scratch\n",
    "\n",
    "Ce chapitre consiste en un rappel des grands principes du langage Python."
   ]
  },
  {
   "attachments": {},
   "cell_type": "markdown",
   "metadata": {},
   "source": [
    "## 1.1 Version de Python\n",
    "\n",
    "Python version 3. "
   ]
  },
  {
   "cell_type": "code",
   "execution_count": 39,
   "metadata": {},
   "outputs": [
    {
     "name": "stdout",
     "output_type": "stream",
     "text": [
      "Python version\n",
      "3.8.8 (default, Apr 13 2021, 12:59:45) \n",
      "[Clang 10.0.0 ]\n",
      "Version info.\n",
      "sys.version_info(major=3, minor=8, micro=8, releaselevel='final', serial=0)\n"
     ]
    }
   ],
   "source": [
    "import sys\n",
    "print(\"Python version\")\n",
    "print (sys.version)\n",
    "print(\"Version info.\")\n",
    "print (sys.version_info)"
   ]
  },
  {
   "attachments": {},
   "cell_type": "markdown",
   "metadata": {},
   "source": [
    "## 1.2 Utilisation de IPython\n",
    "\n",
    "On va tutilisé jupyter pour les raisons suivante:\n",
    "    \n",
    "    - Utilisation de la tabulation pour la complétion\n",
    "    - Utilisation des clés magiques\n",
    "    - Accès simplifié aux aides"
   ]
  },
  {
   "attachments": {},
   "cell_type": "markdown",
   "metadata": {},
   "source": [
    "### Accès aux aides\n",
    "\n",
    "Pour accéder aux aides on utilise la combinaison Shift + Tab mais ou un '?' apres une fonction par exeple"
   ]
  },
  {
   "cell_type": "code",
   "execution_count": 40,
   "metadata": {},
   "outputs": [
    {
     "name": "stdout",
     "output_type": "stream",
     "text": [
      "\u001b[0;31mSignature:\u001b[0m \u001b[0msum\u001b[0m\u001b[0;34m(\u001b[0m\u001b[0miterable\u001b[0m\u001b[0;34m,\u001b[0m \u001b[0;34m/\u001b[0m\u001b[0;34m,\u001b[0m \u001b[0mstart\u001b[0m\u001b[0;34m=\u001b[0m\u001b[0;36m0\u001b[0m\u001b[0;34m)\u001b[0m\u001b[0;34m\u001b[0m\u001b[0;34m\u001b[0m\u001b[0m\n",
      "\u001b[0;31mDocstring:\u001b[0m\n",
      "Return the sum of a 'start' value (default: 0) plus an iterable of numbers\n",
      "\n",
      "When the iterable is empty, return the start value.\n",
      "This function is intended specifically for use with numeric values and may\n",
      "reject non-numeric types.\n",
      "\u001b[0;31mType:\u001b[0m      builtin_function_or_method\n"
     ]
    }
   ],
   "source": [
    "sum?"
   ]
  },
  {
   "cell_type": "markdown",
   "metadata": {},
   "source": [
    "Et pour accéder au code source d'une fonction lorsqu'il est disponible :"
   ]
  },
  {
   "cell_type": "code",
   "execution_count": 41,
   "metadata": {},
   "outputs": [
    {
     "name": "stdout",
     "output_type": "stream",
     "text": [
      "\u001b[0;31mSignature:\u001b[0m \u001b[0msum\u001b[0m\u001b[0;34m(\u001b[0m\u001b[0miterable\u001b[0m\u001b[0;34m,\u001b[0m \u001b[0;34m/\u001b[0m\u001b[0;34m,\u001b[0m \u001b[0mstart\u001b[0m\u001b[0;34m=\u001b[0m\u001b[0;36m0\u001b[0m\u001b[0;34m)\u001b[0m\u001b[0;34m\u001b[0m\u001b[0;34m\u001b[0m\u001b[0m\n",
      "\u001b[0;31mDocstring:\u001b[0m\n",
      "Return the sum of a 'start' value (default: 0) plus an iterable of numbers\n",
      "\n",
      "When the iterable is empty, return the start value.\n",
      "This function is intended specifically for use with numeric values and may\n",
      "reject non-numeric types.\n",
      "\u001b[0;31mType:\u001b[0m      builtin_function_or_method\n"
     ]
    }
   ],
   "source": [
    "sum??"
   ]
  },
  {
   "attachments": {},
   "cell_type": "markdown",
   "metadata": {},
   "source": [
    "### Les clés magiques de IPython\n",
    "\n",
    "clée magique avec un % s'applique à une ligne, une clé magique avec %% s'applique avec une cellule.\n",
    "\n",
    "La liste des clées magique:"
   ]
  },
  {
   "cell_type": "code",
   "execution_count": 42,
   "metadata": {},
   "outputs": [
    {
     "data": {
      "application/json": {
       "cell": {
        "!": "OSMagics",
        "HTML": "Other",
        "SVG": "Other",
        "bash": "Other",
        "capture": "ExecutionMagics",
        "debug": "ExecutionMagics",
        "file": "Other",
        "html": "DisplayMagics",
        "javascript": "DisplayMagics",
        "js": "DisplayMagics",
        "latex": "DisplayMagics",
        "markdown": "DisplayMagics",
        "perl": "Other",
        "prun": "ExecutionMagics",
        "pypy": "Other",
        "python": "Other",
        "python2": "Other",
        "python3": "Other",
        "ruby": "Other",
        "script": "ScriptMagics",
        "sh": "Other",
        "svg": "DisplayMagics",
        "sx": "OSMagics",
        "system": "OSMagics",
        "time": "ExecutionMagics",
        "timeit": "ExecutionMagics",
        "writefile": "OSMagics"
       },
       "line": {
        "alias": "OSMagics",
        "alias_magic": "BasicMagics",
        "autoawait": "AsyncMagics",
        "autocall": "AutoMagics",
        "automagic": "AutoMagics",
        "autosave": "KernelMagics",
        "bookmark": "OSMagics",
        "cat": "Other",
        "cd": "OSMagics",
        "clear": "KernelMagics",
        "colors": "BasicMagics",
        "conda": "PackagingMagics",
        "config": "ConfigMagics",
        "connect_info": "KernelMagics",
        "cp": "Other",
        "debug": "ExecutionMagics",
        "dhist": "OSMagics",
        "dirs": "OSMagics",
        "doctest_mode": "BasicMagics",
        "ed": "Other",
        "edit": "KernelMagics",
        "env": "OSMagics",
        "gui": "BasicMagics",
        "hist": "Other",
        "history": "HistoryMagics",
        "killbgscripts": "ScriptMagics",
        "ldir": "Other",
        "less": "KernelMagics",
        "lf": "Other",
        "lk": "Other",
        "ll": "Other",
        "load": "CodeMagics",
        "load_ext": "ExtensionMagics",
        "loadpy": "CodeMagics",
        "logoff": "LoggingMagics",
        "logon": "LoggingMagics",
        "logstart": "LoggingMagics",
        "logstate": "LoggingMagics",
        "logstop": "LoggingMagics",
        "ls": "Other",
        "lsmagic": "BasicMagics",
        "lx": "Other",
        "macro": "ExecutionMagics",
        "magic": "BasicMagics",
        "man": "KernelMagics",
        "matplotlib": "PylabMagics",
        "mkdir": "Other",
        "more": "KernelMagics",
        "mv": "Other",
        "notebook": "BasicMagics",
        "page": "BasicMagics",
        "pastebin": "CodeMagics",
        "pdb": "ExecutionMagics",
        "pdef": "NamespaceMagics",
        "pdoc": "NamespaceMagics",
        "pfile": "NamespaceMagics",
        "pinfo": "NamespaceMagics",
        "pinfo2": "NamespaceMagics",
        "pip": "PackagingMagics",
        "popd": "OSMagics",
        "pprint": "BasicMagics",
        "precision": "BasicMagics",
        "prun": "ExecutionMagics",
        "psearch": "NamespaceMagics",
        "psource": "NamespaceMagics",
        "pushd": "OSMagics",
        "pwd": "OSMagics",
        "pycat": "OSMagics",
        "pylab": "PylabMagics",
        "qtconsole": "KernelMagics",
        "quickref": "BasicMagics",
        "recall": "HistoryMagics",
        "rehashx": "OSMagics",
        "reload_ext": "ExtensionMagics",
        "rep": "Other",
        "rerun": "HistoryMagics",
        "reset": "NamespaceMagics",
        "reset_selective": "NamespaceMagics",
        "rm": "Other",
        "rmdir": "Other",
        "run": "ExecutionMagics",
        "save": "CodeMagics",
        "sc": "OSMagics",
        "set_env": "OSMagics",
        "store": "StoreMagics",
        "sx": "OSMagics",
        "system": "OSMagics",
        "tb": "ExecutionMagics",
        "time": "ExecutionMagics",
        "timeit": "ExecutionMagics",
        "unalias": "OSMagics",
        "unload_ext": "ExtensionMagics",
        "who": "NamespaceMagics",
        "who_ls": "NamespaceMagics",
        "whos": "NamespaceMagics",
        "xdel": "NamespaceMagics",
        "xmode": "BasicMagics"
       }
      },
      "text/plain": [
       "Available line magics:\n",
       "%alias  %alias_magic  %autoawait  %autocall  %automagic  %autosave  %bookmark  %cat  %cd  %clear  %colors  %conda  %config  %connect_info  %cp  %debug  %dhist  %dirs  %doctest_mode  %ed  %edit  %env  %gui  %hist  %history  %killbgscripts  %ldir  %less  %lf  %lk  %ll  %load  %load_ext  %loadpy  %logoff  %logon  %logstart  %logstate  %logstop  %ls  %lsmagic  %lx  %macro  %magic  %man  %matplotlib  %mkdir  %more  %mv  %notebook  %page  %pastebin  %pdb  %pdef  %pdoc  %pfile  %pinfo  %pinfo2  %pip  %popd  %pprint  %precision  %prun  %psearch  %psource  %pushd  %pwd  %pycat  %pylab  %qtconsole  %quickref  %recall  %rehashx  %reload_ext  %rep  %rerun  %reset  %reset_selective  %rm  %rmdir  %run  %save  %sc  %set_env  %store  %sx  %system  %tb  %time  %timeit  %unalias  %unload_ext  %who  %who_ls  %whos  %xdel  %xmode\n",
       "\n",
       "Available cell magics:\n",
       "%%!  %%HTML  %%SVG  %%bash  %%capture  %%debug  %%file  %%html  %%javascript  %%js  %%latex  %%markdown  %%perl  %%prun  %%pypy  %%python  %%python2  %%python3  %%ruby  %%script  %%sh  %%svg  %%sx  %%system  %%time  %%timeit  %%writefile\n",
       "\n",
       "Automagic is ON, % prefix IS NOT needed for line magics."
      ]
     },
     "execution_count": 42,
     "metadata": {},
     "output_type": "execute_result"
    }
   ],
   "source": [
    "%lsmagic"
   ]
  },
  {
   "cell_type": "markdown",
   "metadata": {},
   "source": [
    "Voici quelques clés magiques utiles :"
   ]
  },
  {
   "cell_type": "code",
   "execution_count": 43,
   "metadata": {},
   "outputs": [
    {
     "name": "stdout",
     "output_type": "stream",
     "text": [
      "Variable    Type      Data/Info\n",
      "-------------------------------\n",
      "chaine1     str       Python pour le data scientist\n",
      "chaine2     str       Python pour 'le' data scientist\n",
      "chaine3     str       Python pour \\nle \\ndata scientist\n",
      "count       int       2\n",
      "d           int       1\n",
      "dict1       dict      n=3\n",
      "e           int       2\n",
      "entier1     int       44\n",
      "fruits      list      n=9\n",
      "index       int       1\n",
      "list1       list      n=4\n",
      "list_comp   list      n=3\n",
      "list_init   list      n=4\n",
      "liste1      list      n=5\n",
      "sys         module    <module 'sys' (built-in)>\n"
     ]
    }
   ],
   "source": [
    "# Liste des objets chargés en mémoire\n",
    "%whos"
   ]
  },
  {
   "cell_type": "code",
   "execution_count": 44,
   "metadata": {},
   "outputs": [
    {
     "name": "stdout",
     "output_type": "stream",
     "text": [
      "13.9 ns ± 1.33 ns per loop (mean ± std. dev. of 7 runs, 100000000 loops each)\n"
     ]
    }
   ],
   "source": [
    "# Timer pour mesurer le temps de traitement\n",
    "%timeit 2**10"
   ]
  },
  {
   "attachments": {},
   "cell_type": "markdown",
   "metadata": {},
   "source": [
    "## 1.3 Les bases du language"
   ]
  },
  {
   "attachments": {},
   "cell_type": "markdown",
   "metadata": {},
   "source": [
    "### 1.3.1 Les principes"
   ]
  },
  {
   "attachments": {},
   "cell_type": "markdown",
   "metadata": {},
   "source": [
    "#### Typage des variables\n",
    "l'opérateur d'allocation = :"
   ]
  },
  {
   "cell_type": "code",
   "execution_count": 45,
   "metadata": {},
   "outputs": [
    {
     "name": "stdout",
     "output_type": "stream",
     "text": [
      "<class 'int'> <class 'float'> <class 'str'> <class 'bool'>\n"
     ]
    }
   ],
   "source": [
    "var1=1\n",
    "var1=10\n",
    "var2=3.5\n",
    "var3=\"Python\"\n",
    "var4=True\n",
    "print(type(var1),type(var2),type(var3),type(var4))"
   ]
  },
  {
   "attachments": {},
   "cell_type": "markdown",
   "metadata": {},
   "source": [
    "### 1.3.2 utilisation des objets:\n",
    "Utilisation d'une methode upper de la classe str:"
   ]
  },
  {
   "cell_type": "code",
   "execution_count": 46,
   "metadata": {},
   "outputs": [
    {
     "name": "stdout",
     "output_type": "stream",
     "text": [
      "PYTHON\n"
     ]
    }
   ],
   "source": [
    "chaine1=\"Python\"\n",
    "print(chaine1.upper())"
   ]
  },
  {
   "attachments": {},
   "cell_type": "markdown",
   "metadata": {},
   "source": [
    "### 1.3.3 Les commentaires\n",
    "\n",
    "En Python les commentaires sont indiqué par le signe #."
   ]
  },
  {
   "attachments": {},
   "cell_type": "markdown",
   "metadata": {},
   "source": [
    "### 1.3.4 Les opérateurs logiques\n",
    "\n",
    "Pour tester un type, on peut utiliser :"
   ]
  },
  {
   "cell_type": "code",
   "execution_count": 47,
   "metadata": {},
   "outputs": [
    {
     "data": {
      "text/plain": [
       "True"
      ]
     },
     "execution_count": 47,
     "metadata": {},
     "output_type": "execute_result"
    }
   ],
   "source": [
    "type(chaine1) is str"
   ]
  },
  {
   "attachments": {},
   "cell_type": "markdown",
   "metadata": {},
   "source": [
    "Pour l'affectation on utilise = :"
   ]
  },
  {
   "cell_type": "code",
   "execution_count": 48,
   "metadata": {},
   "outputs": [],
   "source": [
    "entier1=44"
   ]
  },
  {
   "cell_type": "code",
   "execution_count": 49,
   "metadata": {},
   "outputs": [
    {
     "data": {
      "text/plain": [
       "False"
      ]
     },
     "execution_count": 49,
     "metadata": {},
     "output_type": "execute_result"
    }
   ],
   "source": [
    "type(chaine1) is type(entier1)"
   ]
  },
  {
   "attachments": {},
   "cell_type": "markdown",
   "metadata": {},
   "source": [
    "## 1.4 Les structures en Python\n",
    "\n",
    "Il existe plusieurs structures en Python : les tuples, les listes et les dictionnaires en sont les pricipales."
   ]
  },
  {
   "attachments": {},
   "cell_type": "markdown",
   "metadata": {},
   "source": [
    "### 1.4.1 Les tuples"
   ]
  },
  {
   "attachments": {},
   "cell_type": "markdown",
   "metadata": {},
   "source": [
    "On définit un tuple avec (, , ...)"
   ]
  },
  {
   "cell_type": "code",
   "execution_count": 50,
   "metadata": {},
   "outputs": [],
   "source": [
    "tup1=(1, True, 7.5,9)"
   ]
  },
  {
   "attachments": {},
   "cell_type": "markdown",
   "metadata": {},
   "source": [
    "On accède à un élément d'un tuple (et de n'importe quelle structure) avec []"
   ]
  },
  {
   "cell_type": "code",
   "execution_count": 51,
   "metadata": {},
   "outputs": [
    {
     "data": {
      "text/plain": [
       "7.5"
      ]
     },
     "execution_count": 51,
     "metadata": {},
     "output_type": "execute_result"
    }
   ],
   "source": [
    "\n",
    "tup1[2]"
   ]
  },
  {
   "attachments": {},
   "cell_type": "markdown",
   "metadata": {},
   "source": [
    "Autre methode d'un objet de type tuple :"
   ]
  },
  {
   "cell_type": "code",
   "execution_count": 52,
   "metadata": {},
   "outputs": [
    {
     "data": {
      "text/plain": [
       "1"
      ]
     },
     "execution_count": 52,
     "metadata": {},
     "output_type": "execute_result"
    }
   ],
   "source": [
    "tup1.count(9)"
   ]
  },
  {
   "attachments": {},
   "cell_type": "markdown",
   "metadata": {},
   "source": [
    "### 1.4.2 Les listes\n",
    "\n",
    "Les listes sont définies avec des [] et peuvent être constitués de tous les types d'objets"
   ]
  },
  {
   "cell_type": "code",
   "execution_count": 53,
   "metadata": {},
   "outputs": [],
   "source": [
    "list1=[3,5,6, True]\n",
    "fruits=['orange','apple','pear','banana','kiwi','apple','banana']"
   ]
  },
  {
   "attachments": {},
   "cell_type": "markdown",
   "metadata": {},
   "source": [
    "L'ajout d'un element dans une liste:"
   ]
  },
  {
   "cell_type": "code",
   "execution_count": 54,
   "metadata": {},
   "outputs": [
    {
     "name": "stdout",
     "output_type": "stream",
     "text": [
      "['orange', 'ananas', 'apple', 'pear', 'banana', 'kiwi', 'apple', 'banana', 'grape']\n"
     ]
    }
   ],
   "source": [
    "fruits.append('grape')\n",
    "fruits.insert(1,\"ananas\")\n",
    "print(fruits)"
   ]
  },
  {
   "attachments": {},
   "cell_type": "markdown",
   "metadata": {},
   "source": [
    "La suppression d'un element :"
   ]
  },
  {
   "cell_type": "code",
   "execution_count": 55,
   "metadata": {},
   "outputs": [
    {
     "name": "stdout",
     "output_type": "stream",
     "text": [
      "['apple', 'pear', 'banana', 'kiwi', 'apple', 'banana', 'grape']\n"
     ]
    }
   ],
   "source": [
    "fruits.remove('ananas')\n",
    "fruits.pop(0)\n",
    "print(fruits)"
   ]
  },
  {
   "attachments": {},
   "cell_type": "markdown",
   "metadata": {},
   "source": [
    "Decouvrant quelque methode des listes:"
   ]
  },
  {
   "cell_type": "code",
   "execution_count": 56,
   "metadata": {},
   "outputs": [
    {
     "name": "stdout",
     "output_type": "stream",
     "text": [
      "--- Nombre d'occurence d'un element ----\n",
      "2\n",
      "--- Retour de l'index de l'element ----\n",
      "0\n",
      "--- Reverse d'une liste ----\n",
      "['grape', 'banana', 'apple', 'kiwi', 'banana', 'pear', 'apple']\n",
      "--- Le Trie d'une liste ----\n",
      "['apple', 'apple', 'banana', 'banana', 'grape', 'kiwi', 'pear']\n"
     ]
    }
   ],
   "source": [
    "#Nombre occurence d'un element\n",
    "print(\"--- Nombre d'occurence d'un element ----\")\n",
    "count=fruits.count('apple')\n",
    "print(count)\n",
    "\n",
    "#return index of element\n",
    "print(\"--- Retour de l'index de l'element ----\")\n",
    "index=fruits.index('apple')\n",
    "print(index)\n",
    "\n",
    "#return index of element\n",
    "print(\"--- Reverse d'une liste ----\")\n",
    "fruits.reverse()\n",
    "print(fruits)\n",
    "\n",
    "#trier fruits\n",
    "print(\"--- Le Trie d'une liste ----\")\n",
    "fruits.sort()\n",
    "print(fruits)"
   ]
  },
  {
   "cell_type": "markdown",
   "metadata": {},
   "source": [
    "On accède à un élément d'une liste en utilisant []:"
   ]
  },
  {
   "cell_type": "code",
   "execution_count": 57,
   "metadata": {},
   "outputs": [
    {
     "data": {
      "text/plain": [
       "3"
      ]
     },
     "execution_count": 57,
     "metadata": {},
     "output_type": "execute_result"
    }
   ],
   "source": [
    "list1[0]"
   ]
  },
  {
   "cell_type": "code",
   "execution_count": 58,
   "metadata": {},
   "outputs": [
    {
     "data": {
      "text/plain": [
       "True"
      ]
     },
     "execution_count": 58,
     "metadata": {},
     "output_type": "execute_result"
    }
   ],
   "source": [
    "# On peut facilement accéder à plusieurs éléments de différentes façons\n",
    "list1[0:2] == list1[:2]"
   ]
  },
  {
   "cell_type": "code",
   "execution_count": 59,
   "metadata": {},
   "outputs": [
    {
     "data": {
      "text/plain": [
       "True"
      ]
     },
     "execution_count": 59,
     "metadata": {},
     "output_type": "execute_result"
    }
   ],
   "source": [
    "# Extraire le dernier élément\n",
    "list1[-1]"
   ]
  },
  {
   "cell_type": "code",
   "execution_count": 60,
   "metadata": {},
   "outputs": [
    {
     "data": {
      "text/plain": [
       "[5, 6, True]"
      ]
     },
     "execution_count": 60,
     "metadata": {},
     "output_type": "execute_result"
    }
   ],
   "source": [
    "# Extraire les 3 derniers éléments\n",
    "list1[-3:]"
   ]
  },
  {
   "attachments": {},
   "cell_type": "markdown",
   "metadata": {},
   "source": [
    "Les *listes de comprehensions* sont des générateurs de listes qui utilisent des conditions et des boucles. Python fait toujours de sorte qu'il radui le Code.\n",
    "\n",
    "Dans cet exemple, on va extraire et divisé des éléments pairs de la list_init "
   ]
  },
  {
   "cell_type": "code",
   "execution_count": 61,
   "metadata": {},
   "outputs": [
    {
     "name": "stdout",
     "output_type": "stream",
     "text": [
      "[2.0, 3.0, 4.0]\n"
     ]
    }
   ],
   "source": [
    "list_init=[4,6,7,8]\n",
    "list_comp=[val/2 for val in list_init if val % 2 == 0]\n",
    "print(list_comp)"
   ]
  },
  {
   "attachments": {},
   "cell_type": "markdown",
   "metadata": {},
   "source": [
    "### 1.4.3 Les chaînes de caratères\n",
    "\n",
    "Définition des chaînes de caractères"
   ]
  },
  {
   "cell_type": "code",
   "execution_count": 62,
   "metadata": {},
   "outputs": [
    {
     "name": "stdout",
     "output_type": "stream",
     "text": [
      "Python pour le data scientist\n",
      "Python pour 'le' data scientist\n",
      "Python pour \n",
      "le \n",
      "data scientist\n"
     ]
    }
   ],
   "source": [
    "#Définition simple\n",
    "chaine1='Python pour le data scientist'\n",
    "#De preference si la chaine contient ' au milieu\n",
    "chaine2=\"Python pour 'le' data scientist\"\n",
    "#formatage sur plusieur ligne\n",
    "chaine3=\"\"\"Python pour \n",
    "le \n",
    "data scientist\"\"\"\n",
    "print(chaine1)\n",
    "print(chaine2)\n",
    "print(chaine3)"
   ]
  },
  {
   "cell_type": "markdown",
   "metadata": {},
   "source": [
    "Une chaîne de caractère est en fait une liste spécifique dans laquelle chaque élément est un caractère"
   ]
  },
  {
   "cell_type": "code",
   "execution_count": 63,
   "metadata": {},
   "outputs": [
    {
     "name": "stdout",
     "output_type": "stream",
     "text": [
      "Python\n",
      "data scientist\n",
      "data \n"
     ]
    }
   ],
   "source": [
    "print(chaine1[:6])\n",
    "print(chaine1[-14:])\n",
    "print(chaine1[15:20])"
   ]
  },
  {
   "cell_type": "markdown",
   "metadata": {},
   "source": [
    "On peut facilement passer d'une chaîne de caractères à une liste"
   ]
  },
  {
   "cell_type": "code",
   "execution_count": 64,
   "metadata": {},
   "outputs": [
    {
     "name": "stdout",
     "output_type": "stream",
     "text": [
      "['Python', 'pour', 'le', 'data', 'scientist']\n"
     ]
    }
   ],
   "source": [
    "# on sépare les éléments en utilisant l’espace\n",
    "liste1=chaine1.split()\n",
    "print(liste1)"
   ]
  },
  {
   "cell_type": "code",
   "execution_count": 65,
   "metadata": {},
   "outputs": [
    {
     "name": "stdout",
     "output_type": "stream",
     "text": [
      "Python pour le data scientist\n"
     ]
    }
   ],
   "source": [
    "# on joint les éléments avec l’espace\n",
    "chaine1bis=\" \".join(liste1)\n",
    "print(chaine1bis)"
   ]
  },
  {
   "attachments": {},
   "cell_type": "markdown",
   "metadata": {},
   "source": [
    "## 1.4.4 Les dictionnaires\n",
    "\n",
    "Les dictionnaires permettent de stocker des éléments d'ou chaque élément et une clée associée."
   ]
  },
  {
   "cell_type": "code",
   "execution_count": 66,
   "metadata": {},
   "outputs": [],
   "source": [
    "dict1={\"cle1\":\"valeur1\", \"cle2\":\"valeur2\", \"cle3\":\"valeur3\"}"
   ]
  },
  {
   "cell_type": "code",
   "execution_count": 67,
   "metadata": {},
   "outputs": [
    {
     "data": {
      "text/plain": [
       "'valeur2'"
      ]
     },
     "execution_count": 67,
     "metadata": {},
     "output_type": "execute_result"
    }
   ],
   "source": [
    "# on accède à un élément par sa clé\n",
    "dict1[\"cle2\"]"
   ]
  },
  {
   "cell_type": "code",
   "execution_count": 68,
   "metadata": {},
   "outputs": [
    {
     "data": {
      "text/plain": [
       "dict_keys(['cle1', 'cle2', 'cle3'])"
      ]
     },
     "execution_count": 68,
     "metadata": {},
     "output_type": "execute_result"
    }
   ],
   "source": [
    "# on peut afficher la liste des clés\n",
    "dict1.keys()"
   ]
  },
  {
   "cell_type": "code",
   "execution_count": 69,
   "metadata": {},
   "outputs": [
    {
     "data": {
      "text/plain": [
       "dict_items([('cle1', 'valeur1'), ('cle2', 'valeur2'), ('cle3', 'valeur3')])"
      ]
     },
     "execution_count": 69,
     "metadata": {},
     "output_type": "execute_result"
    }
   ],
   "source": [
    "# on peut aussi afficher les pairs clé : valeur a fin de pourvoir faire un parcours\n",
    "dict1.items()"
   ]
  },
  {
   "cell_type": "code",
   "execution_count": 70,
   "metadata": {},
   "outputs": [],
   "source": [
    "# on crée une clé et a valeur associée :\n",
    "dict1[\"cle4\"]=\"valeur4\""
   ]
  },
  {
   "cell_type": "code",
   "execution_count": 71,
   "metadata": {},
   "outputs": [
    {
     "name": "stdout",
     "output_type": "stream",
     "text": [
      "{'cle1': 'valeur1', 'cle2': 'valeur2', 'cle3': 'valeur3'}\n"
     ]
    }
   ],
   "source": [
    "# on peut supprimer cette clé ( del peut etre utilisé aussi dans les liste)\n",
    "del dict1[\"cle4\"]\n",
    "print(dict1)"
   ]
  },
  {
   "cell_type": "code",
   "execution_count": 72,
   "metadata": {},
   "outputs": [],
   "source": [
    "# on peut aussi utiliser la fonction dict :\n",
    "dict2=dict(cle1=\"valeur1\",cle2=\"valeur2\")"
   ]
  },
  {
   "cell_type": "code",
   "execution_count": 73,
   "metadata": {},
   "outputs": [
    {
     "data": {
      "text/plain": [
       "'valeur1'"
      ]
     },
     "execution_count": 73,
     "metadata": {},
     "output_type": "execute_result"
    }
   ],
   "source": [
    "dict2[\"cle1\"]"
   ]
  },
  {
   "attachments": {},
   "cell_type": "markdown",
   "metadata": {},
   "source": [
    "## 1.5 Conditions / Boucles avec Python\n",
    "\n",
    "### 1.5.1 Conditions\n",
    "Les conditions sont simples à mettre en place en Python"
   ]
  },
  {
   "cell_type": "code",
   "execution_count": 74,
   "metadata": {},
   "outputs": [],
   "source": [
    "# on définit a\n",
    "a=True"
   ]
  },
  {
   "cell_type": "code",
   "execution_count": 75,
   "metadata": {},
   "outputs": [
    {
     "name": "stdout",
     "output_type": "stream",
     "text": [
      "c'est vrai\n"
     ]
    }
   ],
   "source": [
    "# première condition\n",
    "if a is True :\n",
    "    print(\"c'est vrai\")"
   ]
  },
  {
   "cell_type": "code",
   "execution_count": 76,
   "metadata": {},
   "outputs": [
    {
     "name": "stdout",
     "output_type": "stream",
     "text": [
      "c'est vrai\n"
     ]
    }
   ],
   "source": [
    "# on ajoute une alternative\n",
    "if a is True :\n",
    "    print(\"c'est vrai\")\n",
    "else :\n",
    "    print(\"ce n'est pas vrai\")"
   ]
  },
  {
   "cell_type": "code",
   "execution_count": 77,
   "metadata": {},
   "outputs": [
    {
     "name": "stdout",
     "output_type": "stream",
     "text": [
      "c'est vrai\n"
     ]
    }
   ],
   "source": [
    "# on ajoute un elif\n",
    "if a is True :\n",
    "    print(\"c'est vrai\")\n",
    "elif a is False :\n",
    "    print(\"c'est faux\")\n",
    "else :\n",
    "    print(\"ce n'est pas un booléen\")"
   ]
  },
  {
   "cell_type": "markdown",
   "metadata": {},
   "source": [
    "#### Opérateurs de comparaison\n",
    "On peut utiliser en Python == ou is et leur utilisation sera différente"
   ]
  },
  {
   "cell_type": "code",
   "execution_count": 78,
   "metadata": {},
   "outputs": [
    {
     "data": {
      "text/plain": [
       "True"
      ]
     },
     "execution_count": 78,
     "metadata": {},
     "output_type": "execute_result"
    }
   ],
   "source": [
    "# True est égal à 1\n",
    "True == 1"
   ]
  },
  {
   "cell_type": "code",
   "execution_count": 79,
   "metadata": {},
   "outputs": [
    {
     "data": {
      "text/plain": [
       "True"
      ]
     },
     "execution_count": 79,
     "metadata": {},
     "output_type": "execute_result"
    }
   ],
   "source": [
    "# False est égal à 0\n",
    "False == 0"
   ]
  },
  {
   "cell_type": "code",
   "execution_count": 80,
   "metadata": {},
   "outputs": [
    {
     "name": "stderr",
     "output_type": "stream",
     "text": [
      "<>:2: SyntaxWarning: \"is\" with a literal. Did you mean \"==\"?\n",
      "<>:2: SyntaxWarning: \"is\" with a literal. Did you mean \"==\"?\n",
      "<ipython-input-80-68fcc3ba1e02>:2: SyntaxWarning: \"is\" with a literal. Did you mean \"==\"?\n",
      "  True is 1\n"
     ]
    },
    {
     "data": {
      "text/plain": [
       "False"
      ]
     },
     "execution_count": 80,
     "metadata": {},
     "output_type": "execute_result"
    }
   ],
   "source": [
    "# mais True n'est pas 1 (objet différent)\n",
    "True is 1"
   ]
  },
  {
   "cell_type": "code",
   "execution_count": 81,
   "metadata": {},
   "outputs": [
    {
     "data": {
      "text/plain": [
       "True"
      ]
     },
     "execution_count": 81,
     "metadata": {},
     "output_type": "execute_result"
    }
   ],
   "source": [
    "# en comparaisons True est plus grand que False (1>0)\n",
    "True > False"
   ]
  },
  {
   "cell_type": "code",
   "execution_count": 82,
   "metadata": {},
   "outputs": [
    {
     "data": {
      "text/plain": [
       "True"
      ]
     },
     "execution_count": 82,
     "metadata": {},
     "output_type": "execute_result"
    }
   ],
   "source": [
    "# pour des chaînes de caractères, l’ordre alphabétique prime\n",
    "\"Python\" > \"Java\""
   ]
  },
  {
   "cell_type": "code",
   "execution_count": 83,
   "metadata": {},
   "outputs": [
    {
     "data": {
      "text/plain": [
       "False"
      ]
     },
     "execution_count": 83,
     "metadata": {},
     "output_type": "execute_result"
    }
   ],
   "source": [
    "\"Java\"< \"C\""
   ]
  },
  {
   "attachments": {},
   "cell_type": "markdown",
   "metadata": {},
   "source": [
    "### 1.5.2 Les boucles\n",
    "#### La boucle for\n",
    "La boucle *for* itère sur les éléments d'un objet. \n",
    "\n",
    "Avec une liste on a :"
   ]
  },
  {
   "cell_type": "code",
   "execution_count": 84,
   "metadata": {},
   "outputs": [
    {
     "name": "stdout",
     "output_type": "stream",
     "text": [
      "1\n",
      "2\n"
     ]
    }
   ],
   "source": [
    "for e in [1, 2]:\n",
    "    print(e)"
   ]
  },
  {
   "attachments": {},
   "cell_type": "markdown",
   "metadata": {},
   "source": [
    "La fonction range() permet de générer une suite d'entiers - des fois on utilise un saut- :"
   ]
  },
  {
   "cell_type": "code",
   "execution_count": 85,
   "metadata": {},
   "outputs": [
    {
     "name": "stdout",
     "output_type": "stream",
     "text": [
      "[2, 3, 4]\n",
      "[0, 1, 2, 3, 4]\n",
      "[2, 4, 6, 8, 10, 12, 14]\n"
     ]
    }
   ],
   "source": [
    "#Génération d'une suite de nombre qui commence par 2 et fini par 5\n",
    "print(list(range(2,5)))\n",
    "#par defaut 0 est le nombre premier\n",
    "print(list(range(5)))\n",
    "#un saut de 2 suivant= précedent+2\n",
    "print(list(range(2,15,2)))"
   ]
  },
  {
   "cell_type": "markdown",
   "metadata": {},
   "source": [
    "Pour générer une boucle sur des entiers de 0 à 10, on utilise :"
   ]
  },
  {
   "cell_type": "code",
   "execution_count": 46,
   "metadata": {},
   "outputs": [
    {
     "name": "stdout",
     "output_type": "stream",
     "text": [
      "0--1--2--3--4--5--6--7--8--9--10--"
     ]
    }
   ],
   "source": [
    "for i in range(11) :\n",
    "    print(i,end=\"--\")"
   ]
  },
  {
   "cell_type": "markdown",
   "metadata": {},
   "source": [
    "Attention, la dernière valeur est toujours exclue !"
   ]
  },
  {
   "cell_type": "markdown",
   "metadata": {},
   "source": [
    "La fonction *enumerate()* permet de générer un indice en plus de la valeur de l'élement :"
   ]
  },
  {
   "cell_type": "code",
   "execution_count": 87,
   "metadata": {},
   "outputs": [
    {
     "name": "stdout",
     "output_type": "stream",
     "text": [
      "0 France\n",
      "1 Algerie\n",
      "2 Chine\n",
      "3 Russie\n",
      "4 Suise\n"
     ]
    }
   ],
   "source": [
    "liste_pays=['France', 'Algerie', 'Chine', 'Russie', 'Suise']\n",
    "for i, a in enumerate(liste_pays) :\n",
    "    print(i, a)"
   ]
  },
  {
   "attachments": {},
   "cell_type": "markdown",
   "metadata": {},
   "source": [
    "La fonction zip() renvoie un itérateur de tuples "
   ]
  },
  {
   "cell_type": "code",
   "execution_count": 91,
   "metadata": {},
   "outputs": [
    {
     "name": "stdout",
     "output_type": "stream",
     "text": [
      "(('lundi', 'beau'), ('mardi', 'mauvais'))\n"
     ]
    }
   ],
   "source": [
    "print(tuple(zip([\"lundi\",\"mardi\"],[\"beau\",\"mauvais\"])))"
   ]
  },
  {
   "cell_type": "markdown",
   "metadata": {},
   "source": [
    "La fonction *zip* permet de joindre deux listes et de les parcourir \"en parallèle\""
   ]
  },
  {
   "cell_type": "code",
   "execution_count": 88,
   "metadata": {},
   "outputs": [
    {
     "name": "stdout",
     "output_type": "stream",
     "text": [
      " Lundi, il fera beau\n",
      " Mardi, il fera mauvais\n"
     ]
    }
   ],
   "source": [
    "for jour, meteo in zip([\"lundi\",\"mardi\"],[\"beau\",\"mauvais\"]) :\n",
    "    print(f\" {jour.capitalize()}, il fera {meteo}\")"
   ]
  },
  {
   "cell_type": "markdown",
   "metadata": {},
   "source": [
    "On peut combiner *enumerate* et *zip* :"
   ]
  },
  {
   "cell_type": "code",
   "execution_count": null,
   "metadata": {},
   "outputs": [
    {
     "name": "stdout",
     "output_type": "stream",
     "text": [
      "  0 : Lundi, il fera beau\n",
      "  1 : Mardi, il fera mauvais\n"
     ]
    }
   ],
   "source": [
    "for i, (jour, meteo) in enumerate(zip([\"lundi\",\"mardi\"],[\"beau\",\"mauvais\"])) :\n",
    "    print(\" % i : % s, il fera % s\" %(i, jour.capitalize(), meteo))"
   ]
  },
  {
   "cell_type": "markdown",
   "metadata": {},
   "source": [
    "#### La boucle While\n",
    "Cette boucle a un fonctionnement classique en Python :"
   ]
  },
  {
   "cell_type": "code",
   "execution_count": null,
   "metadata": {},
   "outputs": [
    {
     "name": "stdout",
     "output_type": "stream",
     "text": [
      "51\n"
     ]
    }
   ],
   "source": [
    "i=1\n",
    "val_stop=50\n",
    "while i<100 :\n",
    "    i+=1\n",
    "    if i>val_stop :\n",
    "        break\n",
    "print(i)"
   ]
  },
  {
   "attachments": {},
   "cell_type": "markdown",
   "metadata": {},
   "source": [
    "## 1.6 Les fonctions\n",
    "Il est très simple de définir des fonctions en Python"
   ]
  },
  {
   "cell_type": "code",
   "execution_count": 92,
   "metadata": {},
   "outputs": [],
   "source": [
    "def my_fonc(a,b) :\n",
    "    print(a+b)"
   ]
  },
  {
   "cell_type": "code",
   "execution_count": 94,
   "metadata": {},
   "outputs": [
    {
     "name": "stdout",
     "output_type": "stream",
     "text": [
      "10\n",
      "10\n",
      "10\n"
     ]
    }
   ],
   "source": [
    "# Les 3 apples sont juste\n",
    "my_fonc(a=4, b=6)\n",
    "my_fonc(4,6)\n",
    "my_fonc(b=6, a=4)"
   ]
  },
  {
   "cell_type": "markdown",
   "metadata": {},
   "source": [
    "### Les valeurs par défaut des paramètres\n",
    "On peut définir des valeurs par défaut, ici on fixe b=6. Si b est renseigné dans l'appel, il prend la valeur renseignée, sinon il prend la valeur par défaut."
   ]
  },
  {
   "cell_type": "code",
   "execution_count": 96,
   "metadata": {},
   "outputs": [],
   "source": [
    "def my_fonc_b(a, b=6) :\n",
    "    print(a+b)"
   ]
  },
  {
   "cell_type": "code",
   "execution_count": 97,
   "metadata": {},
   "outputs": [
    {
     "name": "stdout",
     "output_type": "stream",
     "text": [
      "7\n",
      "8\n"
     ]
    }
   ],
   "source": [
    "my_fonc_b(2,5)\n",
    "my_fonc_b(2)"
   ]
  },
  {
   "cell_type": "code",
   "execution_count": 99,
   "metadata": {},
   "outputs": [],
   "source": [
    "def my_fonc2(a, b=6, c=5, d=10) :\n",
    "    print(a+b+c+d)"
   ]
  },
  {
   "cell_type": "code",
   "execution_count": 100,
   "metadata": {},
   "outputs": [
    {
     "name": "stdout",
     "output_type": "stream",
     "text": [
      "21\n",
      "14\n"
     ]
    }
   ],
   "source": [
    "my_fonc2(2, c=3)\n",
    "my_fonc2(2, d=1)"
   ]
  },
  {
   "attachments": {},
   "cell_type": "markdown",
   "metadata": {},
   "source": [
    "Lors d'un appel de fonction, plutôt que d'appeler séparément les éléments, on peut fournir une liste à la fonction. \n",
    "\n",
    "Dans ce cas on utilisera *list :"
   ]
  },
  {
   "cell_type": "code",
   "execution_count": 101,
   "metadata": {},
   "outputs": [
    {
     "name": "stdout",
     "output_type": "stream",
     "text": [
      "22\n"
     ]
    }
   ],
   "source": [
    "list_fonc=[3,5,6,8]\n",
    "my_fonc2(*list_fonc)"
   ]
  },
  {
   "cell_type": "markdown",
   "metadata": {},
   "source": [
    "On peut aussi utiliser un dictionnaire et on utilise **dico :"
   ]
  },
  {
   "cell_type": "code",
   "execution_count": null,
   "metadata": {},
   "outputs": [
    {
     "name": "stdout",
     "output_type": "stream",
     "text": [
      "23\n"
     ]
    }
   ],
   "source": [
    "dico_fonc={\"a\":5,\"b\":6,\"c\":7,\"d\":5}\n",
    "ma_fonc2(**dico_fonc)"
   ]
  },
  {
   "cell_type": "markdown",
   "metadata": {},
   "source": [
    "### L'utlisation de \\*args et \\*\\*kwargs dans un appel de fonctions\n",
    "Ceci va permettre d'avoir un nombre indéfini de paramètres dans l'appel de la fonctions.\n",
    "\n",
    "\\*args est associé à une liste et \\*\\*kwargs à un dictionnaire (c'est les \\* qui comptent et non les noms des arguents)"
   ]
  },
  {
   "cell_type": "code",
   "execution_count": null,
   "metadata": {},
   "outputs": [],
   "source": [
    "def my_fonc3(param_obligatoire,*args,**kwargs) :\n",
    "    print(\"Argument obligatoire :\", param_obligatoire)\n",
    "    # si on a des arguments positionnés après les arguments obligatoires\n",
    "    # on les affiche\n",
    "    if args :\n",
    "        for val in args :\n",
    "            print(\"Argument dans args : \", val)\n",
    "    # si on a des arguments du type arg1 =… situé après les arguments\n",
    "    # obligatoires, on les affiche\n",
    "    if kwargs :\n",
    "        for key, val in kwargs.items() :\n",
    "             print(\"Nom de l’argument et valeur dans kwargs\", key, val,sep=\": \")"
   ]
  },
  {
   "cell_type": "code",
   "execution_count": null,
   "metadata": {},
   "outputs": [
    {
     "name": "stdout",
     "output_type": "stream",
     "text": [
      "Argument obligatoire : DATA\n",
      "Argument dans args :  Science\n",
      "Argument dans args :  Python\n",
      "Nom de l’argument et valeur dans kwargs: option: mon_option\n"
     ]
    }
   ],
   "source": [
    "my_fonc3(\"DATA\",\"Science\",\"Python\", option=\"mon_option\")"
   ]
  },
  {
   "cell_type": "code",
   "execution_count": null,
   "metadata": {},
   "outputs": [
    {
     "name": "stdout",
     "output_type": "stream",
     "text": [
      "Argument obligatoire : DATA\n",
      "Nom de l’argument et valeur dans kwargs: autre_option: mon_option\n"
     ]
    }
   ],
   "source": [
    "my_fonc3(\"DATA\", autre_option=\"mon_option\")"
   ]
  },
  {
   "cell_type": "markdown",
   "metadata": {},
   "source": [
    "Dans ce code, on a combiné les différentes options. On utilise souvent ce type\n",
    "d’arguments lorsqu’on appelle des fonctions de manière imbriquée de manière à\n",
    "éviter d’avoir à nommer tous les paramètres de toutes les fonctions appelées. Bien\n",
    "entendu, c’est à l’utilisateur de bien nommer les paramètres dans la partie kwargs"
   ]
  },
  {
   "attachments": {},
   "cell_type": "markdown",
   "metadata": {},
   "source": [
    "### 1.6.3 Les docstrings\n",
    "Les docstrings consistent en des descriptions des fonctions, des classes ou des modules que l'on définit en utilisant \"\"\" \"\"\" dans la ligne suivant la définition de la fonction / classe / module :"
   ]
  },
  {
   "cell_type": "code",
   "execution_count": null,
   "metadata": {},
   "outputs": [],
   "source": [
    "def my_fonction(*args):\n",
    "    \"\"\"Cette fonction calcule la somme des paramètres\"\"\"\n",
    "    if args:\n",
    "        return sum(args)\n",
    "    else:\n",
    "        return None"
   ]
  },
  {
   "cell_type": "code",
   "execution_count": null,
   "metadata": {},
   "outputs": [
    {
     "name": "stdout",
     "output_type": "stream",
     "text": [
      "Help on function ma_fonction in module __main__:\n",
      "\n",
      "ma_fonction(*args)\n",
      "    Cette fonction calcule la somme des paramètres\n",
      "\n"
     ]
    }
   ],
   "source": [
    "help(my_fonction)"
   ]
  },
  {
   "attachments": {},
   "cell_type": "markdown",
   "metadata": {},
   "source": [
    "### 1.6.4 Les retours multiples\n",
    "Il est possible d'avoir plusieurs objets dans un return de fonctions. Dans ce cas ces différents éléments sont soit stockés dans un tuple, soit associé à différents objets."
   ]
  },
  {
   "cell_type": "code",
   "execution_count": null,
   "metadata": {},
   "outputs": [],
   "source": [
    "def my_fonc(a, b) :\n",
    "    return a+b, a-b"
   ]
  },
  {
   "cell_type": "code",
   "execution_count": null,
   "metadata": {},
   "outputs": [
    {
     "name": "stdout",
     "output_type": "stream",
     "text": [
      "(7, -3)\n",
      "7 -3\n"
     ]
    }
   ],
   "source": [
    "tu1=my_fonc(2,5)\n",
    "print(tu1)\n",
    "val1, val2=ma_fonc(2,5)\n",
    "print(val1, val2)"
   ]
  },
  {
   "attachments": {},
   "cell_type": "markdown",
   "metadata": {},
   "source": [
    "### 1.6.5 Les fonctions lambdas\n",
    "Il s'agit de fonctions anonymes qui s'écrivent en une seule ligne.\n",
    "\n",
    "En voici deux exemples :"
   ]
  },
  {
   "cell_type": "code",
   "execution_count": null,
   "metadata": {},
   "outputs": [
    {
     "data": {
      "text/plain": [
       "['PYTHON', 'POUR', 'LE', 'DATA', 'SCIENTIST']"
      ]
     },
     "execution_count": 66,
     "metadata": {},
     "output_type": "execute_result"
    }
   ],
   "source": [
    "ma_chaine=\"Python pour le data scientist\"\n",
    "(lambda chaine : chaine.upper().split())(ma_chaine)"
   ]
  },
  {
   "cell_type": "code",
   "execution_count": null,
   "metadata": {},
   "outputs": [
    {
     "name": "stdout",
     "output_type": "stream",
     "text": [
      "[6, 8, 12]\n"
     ]
    }
   ],
   "source": [
    "ma_liste = [1, 6, 8, 3, 12]\n",
    "nouvelle_liste = list(filter(lambda x: (x >= 6), ma_liste))\n",
    "print(nouvelle_liste)"
   ]
  },
  {
   "attachments": {},
   "cell_type": "markdown",
   "metadata": {},
   "source": [
    "## 1.7 Les classes\n",
    "### 1.7.1 Comment reconnaître une classe\n",
    "\n",
    "On reconnaît une classe car, en principe, elle s'écrit avec des majuscule et sans séparateurs.\n",
    "\n",
    "### 1.7.2 Définir une classe\n",
    "Voici un exemple d'une classe"
   ]
  },
  {
   "cell_type": "markdown",
   "metadata": {},
   "source": [
    "En plus du constructeur \\__init\\__(), on va ajouter des méthodes :"
   ]
  },
  {
   "cell_type": "code",
   "execution_count": 102,
   "metadata": {},
   "outputs": [],
   "source": [
    "class MonImage:\n",
    "\n",
    "    #Variable Globale\n",
    "    __doc__=\"Definition De la classe image\"\n",
    "\n",
    "    def __init__(self, resolution = 300, source = \"./\", taille= 500) :\n",
    "        self._resolution=resolution\n",
    "        self._source=source\n",
    "        self._taille=taille\n",
    "\n",
    "\n",
    "    def agrandir_image(self, facteur) :\n",
    "        self._taille*= facteur\n",
    "\n",
    "    #Description de l'image  \n",
    "    def __str__(self):\n",
    "        return f'(Résolution: {self._resolution}, Taille: {self._taille}, Source: {self._source})'\n",
    "         \n",
    "   \n",
    "    #getters and setters\n",
    "    #----- Resolution----\n",
    "    @property\n",
    "    def resolution(self):\n",
    "        return self._resolution\n",
    "\n",
    "    @resolution.setter\n",
    "    def resolution(self, res):\n",
    "        self._resolution  =  res\n",
    "        \n",
    "    #----- Taille ----    \n",
    "    @property\n",
    "    def taille(self):\n",
    "        return self._taille\n",
    "\n",
    "    @taille.setter\n",
    "    def taille(self, ta):\n",
    "        self._taille  =  ta\n",
    "        \n",
    "    #----- Source ----\n",
    "    @property\n",
    "    def source(self):\n",
    "        return self._source\n",
    "\n",
    "    @source.setter\n",
    "    def source(self, src):\n",
    "        self._source  =  src\n",
    "    \n",
    "    \n",
    "        \n",
    "    \n",
    "    "
   ]
  },
  {
   "cell_type": "code",
   "execution_count": 106,
   "metadata": {},
   "outputs": [
    {
     "name": "stdout",
     "output_type": "stream",
     "text": [
      "1000\n",
      "(Résolution: 300, Taille: 1000, Source: src/img/exemple_image.jpeg)\n"
     ]
    },
    {
     "data": {
      "text/plain": [
       "\"Definition D'une Image\""
      ]
     },
     "execution_count": 106,
     "metadata": {},
     "output_type": "execute_result"
    }
   ],
   "source": [
    "# on applique une méthode sur notre objet\n",
    "image_1 = MonImage(source=\"src/img/exemple_image.jpeg\",\n",
    "                  taille=500)\n",
    "image_1.agrandir_image(2)\n",
    "print(image_1.taille)\n",
    "print(image_1)\n",
    "image_1.__doc__"
   ]
  },
  {
   "attachments": {},
   "cell_type": "markdown",
   "metadata": {},
   "source": [
    "### 2.9.2 Les expressions régulières\n",
    "Ce code illustre un cas où l'on chercherait à tester la présence d'une adresse email :"
   ]
  },
  {
   "cell_type": "code",
   "execution_count": null,
   "metadata": {},
   "outputs": [
    {
     "name": "stdout",
     "output_type": "stream",
     "text": [
      "Vrai\n"
     ]
    }
   ],
   "source": [
    "import re\n",
    "chaine = \"info@stat4decision.com\"\n",
    "# on vérifie qu'il y a bien le signe @ et on vérifie que l'adresse se termine\n",
    "# oar .fr ou .com\n",
    "regexp = \"(^[a-z0-9._-]+@[a-z0-9._-]+\\.[(com|fr)]+)\"\n",
    "if re.match(regexp, chaine) is not None :\n",
    "    print(\"Vrai\")\n",
    "else:\n",
    "    print(\"Faux\")"
   ]
  }
 ],
 "metadata": {
  "kernelspec": {
   "display_name": "Python 3",
   "language": "python",
   "name": "python3"
  },
  "language_info": {
   "codemirror_mode": {
    "name": "ipython",
    "version": 3
   },
   "file_extension": ".py",
   "mimetype": "text/x-python",
   "name": "python",
   "nbconvert_exporter": "python",
   "pygments_lexer": "ipython3",
   "version": "3.8.8"
  }
 },
 "nbformat": 4,
 "nbformat_minor": 4
}
